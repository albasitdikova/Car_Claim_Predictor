{
 "cells": [
  {
   "cell_type": "code",
   "execution_count": 1,
   "id": "ideal-evanescence",
   "metadata": {},
   "outputs": [],
   "source": [
    "import pandas as pd\n",
    "import sqlite3"
   ]
  },
  {
   "cell_type": "code",
   "execution_count": 2,
   "id": "dried-locator",
   "metadata": {},
   "outputs": [],
   "source": [
    "conn = sqlite3.connect('database.sqlite')"
   ]
  },
  {
   "cell_type": "code",
   "execution_count": 3,
   "id": "internal-amazon",
   "metadata": {},
   "outputs": [
    {
     "data": {
      "text/plain": [
       "array(['sqlite_sequence', 'Player_Attributes', 'Player', 'Match',\n",
       "       'League', 'Country', 'Team', 'Team_Attributes'], dtype=object)"
      ]
     },
     "execution_count": 3,
     "metadata": {},
     "output_type": "execute_result"
    }
   ],
   "source": [
    "query = \"SELECT * FROM sqlite_master\"\n",
    "\n",
    "df_schema = pd.read_sql_query(query, conn)\n",
    "\n",
    "df_schema.tbl_name.unique()"
   ]
  },
  {
   "cell_type": "markdown",
   "id": "boolean-independence",
   "metadata": {},
   "source": [
    "1. Which team scored the most points when playing at home?"
   ]
  },
  {
   "cell_type": "code",
   "execution_count": 16,
   "id": "confident-sentence",
   "metadata": {},
   "outputs": [
    {
     "data": {
      "text/html": [
       "<div>\n",
       "<style scoped>\n",
       "    .dataframe tbody tr th:only-of-type {\n",
       "        vertical-align: middle;\n",
       "    }\n",
       "\n",
       "    .dataframe tbody tr th {\n",
       "        vertical-align: top;\n",
       "    }\n",
       "\n",
       "    .dataframe thead th {\n",
       "        text-align: right;\n",
       "    }\n",
       "</style>\n",
       "<table border=\"1\" class=\"dataframe\">\n",
       "  <thead>\n",
       "    <tr style=\"text-align: right;\">\n",
       "      <th></th>\n",
       "      <th>team_long_name</th>\n",
       "      <th>goals</th>\n",
       "    </tr>\n",
       "  </thead>\n",
       "  <tbody>\n",
       "    <tr>\n",
       "      <th>0</th>\n",
       "      <td>Real Madrid CF</td>\n",
       "      <td>505</td>\n",
       "    </tr>\n",
       "  </tbody>\n",
       "</table>\n",
       "</div>"
      ],
      "text/plain": [
       "   team_long_name  goals\n",
       "0  Real Madrid CF    505"
      ]
     },
     "execution_count": 16,
     "metadata": {},
     "output_type": "execute_result"
    }
   ],
   "source": [
    "query1 = \"\"\"\n",
    "    SELECT Team.team_long_name, DT_goals.goals\n",
    "    FROM\n",
    "    (SELECT home_team_api_id, SUM(home_team_goal) as goals \n",
    "    FROM Match \n",
    "    GROUP BY home_team_api_id\n",
    "    ORDER BY goals DESC\n",
    "    LIMIT 1) AS DT_goals\n",
    "    LEFT JOIN Team ON Team.team_api_id = DT_goals.home_team_api_id\n",
    "    ;\n",
    "\"\"\"\n",
    "\n",
    "df_teams = pd.read_sql_query(query1, conn)\n",
    "df_teams"
   ]
  },
  {
   "cell_type": "markdown",
   "id": "tight-venezuela",
   "metadata": {},
   "source": [
    "2. Did this team also score the most points when playing away?"
   ]
  },
  {
   "cell_type": "code",
   "execution_count": 18,
   "id": "viral-worst",
   "metadata": {},
   "outputs": [
    {
     "data": {
      "text/html": [
       "<div>\n",
       "<style scoped>\n",
       "    .dataframe tbody tr th:only-of-type {\n",
       "        vertical-align: middle;\n",
       "    }\n",
       "\n",
       "    .dataframe tbody tr th {\n",
       "        vertical-align: top;\n",
       "    }\n",
       "\n",
       "    .dataframe thead th {\n",
       "        text-align: right;\n",
       "    }\n",
       "</style>\n",
       "<table border=\"1\" class=\"dataframe\">\n",
       "  <thead>\n",
       "    <tr style=\"text-align: right;\">\n",
       "      <th></th>\n",
       "      <th>team_long_name</th>\n",
       "      <th>goals</th>\n",
       "    </tr>\n",
       "  </thead>\n",
       "  <tbody>\n",
       "    <tr>\n",
       "      <th>0</th>\n",
       "      <td>FC Barcelona</td>\n",
       "      <td>354</td>\n",
       "    </tr>\n",
       "  </tbody>\n",
       "</table>\n",
       "</div>"
      ],
      "text/plain": [
       "  team_long_name  goals\n",
       "0   FC Barcelona    354"
      ]
     },
     "execution_count": 18,
     "metadata": {},
     "output_type": "execute_result"
    }
   ],
   "source": [
    "query2 = \"\"\"\n",
    "    SELECT Team.team_long_name, DT_goals.goals\n",
    "    FROM\n",
    "    (SELECT away_team_api_id, SUM(away_team_goal) as goals \n",
    "    FROM Match \n",
    "    GROUP BY away_team_api_id\n",
    "    ORDER BY goals DESC\n",
    "    LIMIT 1) AS DT_goals\n",
    "    LEFT JOIN Team ON Team.team_api_id = DT_goals.away_team_api_id\n",
    "    ;\n",
    "\"\"\"\n",
    "\n",
    "df_2 = pd.read_sql_query(query2, conn)\n",
    "df_2"
   ]
  },
  {
   "cell_type": "markdown",
   "id": "acknowledged-museum",
   "metadata": {},
   "source": [
    "Answer: Another team got the most points when playing away"
   ]
  },
  {
   "cell_type": "markdown",
   "id": "recovered-transmission",
   "metadata": {},
   "source": [
    "3. How many matches resulted in a tie?"
   ]
  },
  {
   "cell_type": "code",
   "execution_count": 21,
   "id": "olive-commission",
   "metadata": {},
   "outputs": [
    {
     "data": {
      "text/html": [
       "<div>\n",
       "<style scoped>\n",
       "    .dataframe tbody tr th:only-of-type {\n",
       "        vertical-align: middle;\n",
       "    }\n",
       "\n",
       "    .dataframe tbody tr th {\n",
       "        vertical-align: top;\n",
       "    }\n",
       "\n",
       "    .dataframe thead th {\n",
       "        text-align: right;\n",
       "    }\n",
       "</style>\n",
       "<table border=\"1\" class=\"dataframe\">\n",
       "  <thead>\n",
       "    <tr style=\"text-align: right;\">\n",
       "      <th></th>\n",
       "      <th>COUNT(*)</th>\n",
       "    </tr>\n",
       "  </thead>\n",
       "  <tbody>\n",
       "    <tr>\n",
       "      <th>0</th>\n",
       "      <td>6596</td>\n",
       "    </tr>\n",
       "  </tbody>\n",
       "</table>\n",
       "</div>"
      ],
      "text/plain": [
       "   COUNT(*)\n",
       "0      6596"
      ]
     },
     "execution_count": 21,
     "metadata": {},
     "output_type": "execute_result"
    }
   ],
   "source": [
    "query3 = \"\"\"\n",
    "    SELECT COUNT(*) \n",
    "    FROM Match \n",
    "    WHERE home_team_goal = away_team_goal;\n",
    "\"\"\"\n",
    "\n",
    "df_3 = pd.read_sql_query(query3, conn)\n",
    "df_3"
   ]
  },
  {
   "cell_type": "markdown",
   "id": "reported-sally",
   "metadata": {},
   "source": [
    "4. How many players have Smith for their last name? How many have 'smith' anywhere in their name?"
   ]
  },
  {
   "cell_type": "code",
   "execution_count": 30,
   "id": "previous-throw",
   "metadata": {},
   "outputs": [
    {
     "data": {
      "text/html": [
       "<div>\n",
       "<style scoped>\n",
       "    .dataframe tbody tr th:only-of-type {\n",
       "        vertical-align: middle;\n",
       "    }\n",
       "\n",
       "    .dataframe tbody tr th {\n",
       "        vertical-align: top;\n",
       "    }\n",
       "\n",
       "    .dataframe thead th {\n",
       "        text-align: right;\n",
       "    }\n",
       "</style>\n",
       "<table border=\"1\" class=\"dataframe\">\n",
       "  <thead>\n",
       "    <tr style=\"text-align: right;\">\n",
       "      <th></th>\n",
       "      <th>COUNT(*)</th>\n",
       "    </tr>\n",
       "  </thead>\n",
       "  <tbody>\n",
       "    <tr>\n",
       "      <th>0</th>\n",
       "      <td>18</td>\n",
       "    </tr>\n",
       "  </tbody>\n",
       "</table>\n",
       "</div>"
      ],
      "text/plain": [
       "   COUNT(*)\n",
       "0        18"
      ]
     },
     "execution_count": 30,
     "metadata": {},
     "output_type": "execute_result"
    }
   ],
   "source": [
    "query4_last = \"\"\"\n",
    "    SELECT COUNT(*) \n",
    "    FROM Player \n",
    "    WHERE player_name LIKE '%Smith';\n",
    "\"\"\"\n",
    "\n",
    "df_4_last = pd.read_sql_query(query4_last, conn)\n",
    "df_4_last"
   ]
  },
  {
   "cell_type": "code",
   "execution_count": 33,
   "id": "innocent-kansas",
   "metadata": {},
   "outputs": [
    {
     "data": {
      "text/html": [
       "<div>\n",
       "<style scoped>\n",
       "    .dataframe tbody tr th:only-of-type {\n",
       "        vertical-align: middle;\n",
       "    }\n",
       "\n",
       "    .dataframe tbody tr th {\n",
       "        vertical-align: top;\n",
       "    }\n",
       "\n",
       "    .dataframe thead th {\n",
       "        text-align: right;\n",
       "    }\n",
       "</style>\n",
       "<table border=\"1\" class=\"dataframe\">\n",
       "  <thead>\n",
       "    <tr style=\"text-align: right;\">\n",
       "      <th></th>\n",
       "      <th>COUNT(*)</th>\n",
       "    </tr>\n",
       "  </thead>\n",
       "  <tbody>\n",
       "    <tr>\n",
       "      <th>0</th>\n",
       "      <td>18</td>\n",
       "    </tr>\n",
       "  </tbody>\n",
       "</table>\n",
       "</div>"
      ],
      "text/plain": [
       "   COUNT(*)\n",
       "0        18"
      ]
     },
     "execution_count": 33,
     "metadata": {},
     "output_type": "execute_result"
    }
   ],
   "source": [
    "query4_any = \"\"\"\n",
    "    SELECT COUNT(*)\n",
    "    FROM Player \n",
    "    WHERE player_name LIKE '%Smith%';\n",
    "\"\"\"\n",
    "\n",
    "df_4_any = pd.read_sql_query(query4_any, conn)\n",
    "df_4_any"
   ]
  },
  {
   "cell_type": "markdown",
   "id": "western-special",
   "metadata": {},
   "source": [
    "5. What was the median tie score? Use the value determined in the previous question for the number of tie games. Hint: PostgreSQL does not have a median function. Instead, think about the steps required to calculate a median and use the WITH command to store stepwise results as a table and then operate on these results."
   ]
  },
  {
   "cell_type": "code",
   "execution_count": 143,
   "id": "champion-newfoundland",
   "metadata": {},
   "outputs": [
    {
     "data": {
      "text/html": [
       "<div>\n",
       "<style scoped>\n",
       "    .dataframe tbody tr th:only-of-type {\n",
       "        vertical-align: middle;\n",
       "    }\n",
       "\n",
       "    .dataframe tbody tr th {\n",
       "        vertical-align: top;\n",
       "    }\n",
       "\n",
       "    .dataframe thead th {\n",
       "        text-align: right;\n",
       "    }\n",
       "</style>\n",
       "<table border=\"1\" class=\"dataframe\">\n",
       "  <thead>\n",
       "    <tr style=\"text-align: right;\">\n",
       "      <th></th>\n",
       "      <th>id</th>\n",
       "      <th>country_id</th>\n",
       "      <th>league_id</th>\n",
       "      <th>season</th>\n",
       "      <th>stage</th>\n",
       "      <th>date</th>\n",
       "      <th>match_api_id</th>\n",
       "      <th>home_team_api_id</th>\n",
       "      <th>away_team_api_id</th>\n",
       "      <th>home_team_goal</th>\n",
       "      <th>...</th>\n",
       "      <th>VCH</th>\n",
       "      <th>VCD</th>\n",
       "      <th>VCA</th>\n",
       "      <th>GBH</th>\n",
       "      <th>GBD</th>\n",
       "      <th>GBA</th>\n",
       "      <th>BSH</th>\n",
       "      <th>BSD</th>\n",
       "      <th>BSA</th>\n",
       "      <th>num</th>\n",
       "    </tr>\n",
       "  </thead>\n",
       "  <tbody>\n",
       "    <tr>\n",
       "      <th>0</th>\n",
       "      <td>11165</td>\n",
       "      <td>10257</td>\n",
       "      <td>10257</td>\n",
       "      <td>2010/2011</td>\n",
       "      <td>22</td>\n",
       "      <td>2011-01-30 00:00:00</td>\n",
       "      <td>888378</td>\n",
       "      <td>9888</td>\n",
       "      <td>9880</td>\n",
       "      <td>1</td>\n",
       "      <td>...</td>\n",
       "      <td>2.15</td>\n",
       "      <td>3.2</td>\n",
       "      <td>4</td>\n",
       "      <td>2.1</td>\n",
       "      <td>3.2</td>\n",
       "      <td>3.5</td>\n",
       "      <td>2.15</td>\n",
       "      <td>3.2</td>\n",
       "      <td>3.3</td>\n",
       "      <td>3298</td>\n",
       "    </tr>\n",
       "  </tbody>\n",
       "</table>\n",
       "<p>1 rows × 116 columns</p>\n",
       "</div>"
      ],
      "text/plain": [
       "      id  country_id  league_id     season  stage                 date  \\\n",
       "0  11165       10257      10257  2010/2011     22  2011-01-30 00:00:00   \n",
       "\n",
       "   match_api_id  home_team_api_id  away_team_api_id  home_team_goal  ...  \\\n",
       "0        888378              9888              9880               1  ...   \n",
       "\n",
       "    VCH  VCD  VCA  GBH  GBD  GBA   BSH  BSD  BSA   num  \n",
       "0  2.15  3.2    4  2.1  3.2  3.5  2.15  3.2  3.3  3298  \n",
       "\n",
       "[1 rows x 116 columns]"
      ]
     },
     "execution_count": 143,
     "metadata": {},
     "output_type": "execute_result"
    }
   ],
   "source": [
    "query5 = \"\"\"\n",
    "\n",
    "WITH DT1 AS(\n",
    "    SELECT *, ROW_NUMBER() OVER(ORDER BY home_team_goal) num\n",
    "    FROM Match \n",
    "    WHERE home_team_goal = away_team_goal \n",
    "    ORDER BY Match.home_team_goal\n",
    "    ),   \n",
    "DT2 AS(\n",
    "    SELECT COUNT(*)/2 as median\n",
    "    FROM Match \n",
    "    WHERE home_team_goal = away_team_goal\n",
    "    )   \n",
    "\n",
    "SELECT DT1.*  \n",
    "FROM DT1, DT2\n",
    "WHERE DT1.num = DT2.median\n",
    "LIMIT 1\n",
    ";\n",
    "\"\"\"\n",
    "\n",
    "df_5 = pd.read_sql_query(query5, conn)\n",
    "df_5"
   ]
  },
  {
   "cell_type": "markdown",
   "id": "tropical-enlargement",
   "metadata": {},
   "source": [
    "6. What percentage of players prefer their left or right foot? Hint: Calculate either the right or left foot, whichever is easier based on how you setup the problem."
   ]
  },
  {
   "cell_type": "code",
   "execution_count": 104,
   "id": "motivated-hours",
   "metadata": {},
   "outputs": [
    {
     "data": {
      "text/html": [
       "<div>\n",
       "<style scoped>\n",
       "    .dataframe tbody tr th:only-of-type {\n",
       "        vertical-align: middle;\n",
       "    }\n",
       "\n",
       "    .dataframe tbody tr th {\n",
       "        vertical-align: top;\n",
       "    }\n",
       "\n",
       "    .dataframe thead th {\n",
       "        text-align: right;\n",
       "    }\n",
       "</style>\n",
       "<table border=\"1\" class=\"dataframe\">\n",
       "  <thead>\n",
       "    <tr style=\"text-align: right;\">\n",
       "      <th></th>\n",
       "      <th>pr_right</th>\n",
       "    </tr>\n",
       "  </thead>\n",
       "  <tbody>\n",
       "    <tr>\n",
       "      <th>0</th>\n",
       "      <td>0.752313</td>\n",
       "    </tr>\n",
       "  </tbody>\n",
       "</table>\n",
       "</div>"
      ],
      "text/plain": [
       "   pr_right\n",
       "0  0.752313"
      ]
     },
     "execution_count": 104,
     "metadata": {},
     "output_type": "execute_result"
    }
   ],
   "source": [
    "query6 = \"\"\"\n",
    "\n",
    "WITH DT1 AS(\n",
    "    SELECT COUNT(*) as count_right\n",
    "    FROM Player_Attributes\n",
    "    WHERE preferred_foot = 'right'\n",
    "    ),   \n",
    "DT2 AS(\n",
    "    SELECT COUNT(*) as count_all\n",
    "    FROM Player_Attributes\n",
    "    )   \n",
    "\n",
    "SELECT CAST (DT1.count_right AS float) / CAST(DT2.count_all AS float) as pr_right\n",
    "FROM DT1, DT2\n",
    ";\n",
    "\"\"\"\n",
    "\n",
    "df_6 = pd.read_sql_query(query6, conn)\n",
    "df_6"
   ]
  },
  {
   "cell_type": "code",
   "execution_count": null,
   "id": "metropolitan-coffee",
   "metadata": {},
   "outputs": [],
   "source": []
  }
 ],
 "metadata": {
  "kernelspec": {
   "display_name": "Python 3",
   "language": "python",
   "name": "python3"
  },
  "language_info": {
   "codemirror_mode": {
    "name": "ipython",
    "version": 3
   },
   "file_extension": ".py",
   "mimetype": "text/x-python",
   "name": "python",
   "nbconvert_exporter": "python",
   "pygments_lexer": "ipython3",
   "version": "3.8.6"
  }
 },
 "nbformat": 4,
 "nbformat_minor": 5
}
