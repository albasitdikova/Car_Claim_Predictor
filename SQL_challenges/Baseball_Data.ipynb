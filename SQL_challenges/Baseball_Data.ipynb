{
 "cells": [
  {
   "cell_type": "code",
   "execution_count": 2,
   "id": "increasing-example",
   "metadata": {},
   "outputs": [
    {
     "data": {
      "text/plain": [
       "array(['allstarfull', 'appearances', 'awardsmanagers', 'awardsplayers',\n",
       "       'awardssharemanagers', 'awardsshareplayers', 'batting',\n",
       "       'battingpost', 'collegeplaying', 'divisions', 'fielding',\n",
       "       'fieldingof', 'fieldingofsplit', 'fieldingpost', 'halloffame',\n",
       "       'homegames', 'leagues', 'managers', 'managershalf', 'parks',\n",
       "       'people', 'pitching', 'pitchingpost', 'salaries', 'schools',\n",
       "       'seriespost', 'teams', 'teamsfranchises', 'teamshalf'],\n",
       "      dtype=object)"
      ]
     },
     "execution_count": 2,
     "metadata": {},
     "output_type": "execute_result"
    }
   ],
   "source": [
    "import pandas as pd\n",
    "import sqlite3\n",
    "\n",
    "conn = sqlite3.connect('lahman.sqlite')\n",
    "\n",
    "query = \"SELECT * FROM sqlite_master;\"\n",
    "\n",
    "df_schema = pd.read_sql_query(query, conn)\n",
    "\n",
    "df_schema.tbl_name.unique()"
   ]
  },
  {
   "cell_type": "markdown",
   "id": "peripheral-romance",
   "metadata": {},
   "source": [
    "1. What was the total spent on salaries by each team, each year?"
   ]
  },
  {
   "cell_type": "code",
   "execution_count": 3,
   "id": "developmental-scratch",
   "metadata": {},
   "outputs": [
    {
     "data": {
      "text/html": [
       "<div>\n",
       "<style scoped>\n",
       "    .dataframe tbody tr th:only-of-type {\n",
       "        vertical-align: middle;\n",
       "    }\n",
       "\n",
       "    .dataframe tbody tr th {\n",
       "        vertical-align: top;\n",
       "    }\n",
       "\n",
       "    .dataframe thead th {\n",
       "        text-align: right;\n",
       "    }\n",
       "</style>\n",
       "<table border=\"1\" class=\"dataframe\">\n",
       "  <thead>\n",
       "    <tr style=\"text-align: right;\">\n",
       "      <th></th>\n",
       "      <th>team_ID</th>\n",
       "      <th>yearID</th>\n",
       "      <th>SUM(salary)</th>\n",
       "    </tr>\n",
       "  </thead>\n",
       "  <tbody>\n",
       "    <tr>\n",
       "      <th>0</th>\n",
       "      <td>1918</td>\n",
       "      <td>1985</td>\n",
       "      <td>14807000.0</td>\n",
       "    </tr>\n",
       "    <tr>\n",
       "      <th>1</th>\n",
       "      <td>1919</td>\n",
       "      <td>1985</td>\n",
       "      <td>11560712.0</td>\n",
       "    </tr>\n",
       "    <tr>\n",
       "      <th>2</th>\n",
       "      <td>1920</td>\n",
       "      <td>1985</td>\n",
       "      <td>10897560.0</td>\n",
       "    </tr>\n",
       "    <tr>\n",
       "      <th>3</th>\n",
       "      <td>1921</td>\n",
       "      <td>1985</td>\n",
       "      <td>14427894.0</td>\n",
       "    </tr>\n",
       "    <tr>\n",
       "      <th>4</th>\n",
       "      <td>1922</td>\n",
       "      <td>1985</td>\n",
       "      <td>9846178.0</td>\n",
       "    </tr>\n",
       "    <tr>\n",
       "      <th>...</th>\n",
       "      <td>...</td>\n",
       "      <td>...</td>\n",
       "      <td>...</td>\n",
       "    </tr>\n",
       "    <tr>\n",
       "      <th>913</th>\n",
       "      <td>2831</td>\n",
       "      <td>2016</td>\n",
       "      <td>143053500.0</td>\n",
       "    </tr>\n",
       "    <tr>\n",
       "      <th>914</th>\n",
       "      <td>2832</td>\n",
       "      <td>2016</td>\n",
       "      <td>57097310.0</td>\n",
       "    </tr>\n",
       "    <tr>\n",
       "      <th>915</th>\n",
       "      <td>2833</td>\n",
       "      <td>2016</td>\n",
       "      <td>176038723.0</td>\n",
       "    </tr>\n",
       "    <tr>\n",
       "      <th>916</th>\n",
       "      <td>2834</td>\n",
       "      <td>2016</td>\n",
       "      <td>138701700.0</td>\n",
       "    </tr>\n",
       "    <tr>\n",
       "      <th>917</th>\n",
       "      <td>2835</td>\n",
       "      <td>2016</td>\n",
       "      <td>141652646.0</td>\n",
       "    </tr>\n",
       "  </tbody>\n",
       "</table>\n",
       "<p>918 rows × 3 columns</p>\n",
       "</div>"
      ],
      "text/plain": [
       "     team_ID  yearID  SUM(salary)\n",
       "0       1918    1985   14807000.0\n",
       "1       1919    1985   11560712.0\n",
       "2       1920    1985   10897560.0\n",
       "3       1921    1985   14427894.0\n",
       "4       1922    1985    9846178.0\n",
       "..       ...     ...          ...\n",
       "913     2831    2016  143053500.0\n",
       "914     2832    2016   57097310.0\n",
       "915     2833    2016  176038723.0\n",
       "916     2834    2016  138701700.0\n",
       "917     2835    2016  141652646.0\n",
       "\n",
       "[918 rows x 3 columns]"
      ]
     },
     "execution_count": 3,
     "metadata": {},
     "output_type": "execute_result"
    }
   ],
   "source": [
    "query1 = \"\"\"\n",
    "    SELECT team_ID, yearID, SUM(salary) \n",
    "    FROM salaries \n",
    "    GROUP BY team_ID, yearID;\n",
    "\"\"\"\n",
    "\n",
    "df_teams = pd.read_sql_query(query1, conn)\n",
    "df_teams"
   ]
  },
  {
   "cell_type": "markdown",
   "id": "fatal-fleet",
   "metadata": {},
   "source": [
    "2. What is the first and last year played for each player? Hint: Create a new table from 'Fielding.csv'."
   ]
  },
  {
   "cell_type": "code",
   "execution_count": 4,
   "id": "continental-legislation",
   "metadata": {},
   "outputs": [
    {
     "data": {
      "text/html": [
       "<div>\n",
       "<style scoped>\n",
       "    .dataframe tbody tr th:only-of-type {\n",
       "        vertical-align: middle;\n",
       "    }\n",
       "\n",
       "    .dataframe tbody tr th {\n",
       "        vertical-align: top;\n",
       "    }\n",
       "\n",
       "    .dataframe thead th {\n",
       "        text-align: right;\n",
       "    }\n",
       "</style>\n",
       "<table border=\"1\" class=\"dataframe\">\n",
       "  <thead>\n",
       "    <tr style=\"text-align: right;\">\n",
       "      <th></th>\n",
       "      <th>playerID</th>\n",
       "      <th>MIN(yearID)</th>\n",
       "      <th>MAX (yearID)</th>\n",
       "    </tr>\n",
       "  </thead>\n",
       "  <tbody>\n",
       "    <tr>\n",
       "      <th>0</th>\n",
       "      <td>aardsda01</td>\n",
       "      <td>2004</td>\n",
       "      <td>2015</td>\n",
       "    </tr>\n",
       "    <tr>\n",
       "      <th>1</th>\n",
       "      <td>aaronha01</td>\n",
       "      <td>1954</td>\n",
       "      <td>1976</td>\n",
       "    </tr>\n",
       "    <tr>\n",
       "      <th>2</th>\n",
       "      <td>aaronto01</td>\n",
       "      <td>1962</td>\n",
       "      <td>1971</td>\n",
       "    </tr>\n",
       "    <tr>\n",
       "      <th>3</th>\n",
       "      <td>aasedo01</td>\n",
       "      <td>1977</td>\n",
       "      <td>1990</td>\n",
       "    </tr>\n",
       "    <tr>\n",
       "      <th>4</th>\n",
       "      <td>abadan01</td>\n",
       "      <td>2001</td>\n",
       "      <td>2003</td>\n",
       "    </tr>\n",
       "    <tr>\n",
       "      <th>...</th>\n",
       "      <td>...</td>\n",
       "      <td>...</td>\n",
       "      <td>...</td>\n",
       "    </tr>\n",
       "    <tr>\n",
       "      <th>19486</th>\n",
       "      <td>zupofr01</td>\n",
       "      <td>1957</td>\n",
       "      <td>1961</td>\n",
       "    </tr>\n",
       "    <tr>\n",
       "      <th>19487</th>\n",
       "      <td>zuvelpa01</td>\n",
       "      <td>1982</td>\n",
       "      <td>1991</td>\n",
       "    </tr>\n",
       "    <tr>\n",
       "      <th>19488</th>\n",
       "      <td>zuverge01</td>\n",
       "      <td>1951</td>\n",
       "      <td>1959</td>\n",
       "    </tr>\n",
       "    <tr>\n",
       "      <th>19489</th>\n",
       "      <td>zwilldu01</td>\n",
       "      <td>1910</td>\n",
       "      <td>1916</td>\n",
       "    </tr>\n",
       "    <tr>\n",
       "      <th>19490</th>\n",
       "      <td>zychto01</td>\n",
       "      <td>2015</td>\n",
       "      <td>2017</td>\n",
       "    </tr>\n",
       "  </tbody>\n",
       "</table>\n",
       "<p>19491 rows × 3 columns</p>\n",
       "</div>"
      ],
      "text/plain": [
       "        playerID  MIN(yearID)  MAX (yearID)\n",
       "0      aardsda01         2004          2015\n",
       "1      aaronha01         1954          1976\n",
       "2      aaronto01         1962          1971\n",
       "3       aasedo01         1977          1990\n",
       "4       abadan01         2001          2003\n",
       "...          ...          ...           ...\n",
       "19486   zupofr01         1957          1961\n",
       "19487  zuvelpa01         1982          1991\n",
       "19488  zuverge01         1951          1959\n",
       "19489  zwilldu01         1910          1916\n",
       "19490   zychto01         2015          2017\n",
       "\n",
       "[19491 rows x 3 columns]"
      ]
     },
     "execution_count": 4,
     "metadata": {},
     "output_type": "execute_result"
    }
   ],
   "source": [
    "query2 = \"\"\"\n",
    "    SELECT playerID, MIN(yearID), MAX (yearID) \n",
    "    FROM fielding \n",
    "    GROUP BY playerID;\n",
    "    \n",
    "\"\"\"\n",
    "\n",
    "df_years = pd.read_sql_query(query2, conn)\n",
    "df_years"
   ]
  },
  {
   "cell_type": "markdown",
   "id": "domestic-request",
   "metadata": {},
   "source": [
    "3. Who has played the most all star games?"
   ]
  },
  {
   "cell_type": "code",
   "execution_count": 5,
   "id": "static-commander",
   "metadata": {},
   "outputs": [
    {
     "data": {
      "text/html": [
       "<div>\n",
       "<style scoped>\n",
       "    .dataframe tbody tr th:only-of-type {\n",
       "        vertical-align: middle;\n",
       "    }\n",
       "\n",
       "    .dataframe tbody tr th {\n",
       "        vertical-align: top;\n",
       "    }\n",
       "\n",
       "    .dataframe thead th {\n",
       "        text-align: right;\n",
       "    }\n",
       "</style>\n",
       "<table border=\"1\" class=\"dataframe\">\n",
       "  <thead>\n",
       "    <tr style=\"text-align: right;\">\n",
       "      <th></th>\n",
       "      <th>playerID</th>\n",
       "      <th>stars</th>\n",
       "    </tr>\n",
       "  </thead>\n",
       "  <tbody>\n",
       "    <tr>\n",
       "      <th>0</th>\n",
       "      <td>aaronha01</td>\n",
       "      <td>24</td>\n",
       "    </tr>\n",
       "  </tbody>\n",
       "</table>\n",
       "</div>"
      ],
      "text/plain": [
       "    playerID  stars\n",
       "0  aaronha01     24"
      ]
     },
     "execution_count": 5,
     "metadata": {},
     "output_type": "execute_result"
    }
   ],
   "source": [
    "query3 = \"\"\"\n",
    "    SELECT playerID, COUNT(playerID) as stars \n",
    "    FROM allstarfull \n",
    "    GROUP BY playerID \n",
    "    ORDER BY stars \n",
    "    DESC LIMIT 1;\n",
    "\"\"\"\n",
    "\n",
    "df_most = pd.read_sql_query(query3, conn)\n",
    "df_most"
   ]
  },
  {
   "cell_type": "markdown",
   "id": "designed-exhibition",
   "metadata": {},
   "source": [
    "4. Which school has generated the most distinct players? Hint: Create new table from 'CollegePlaying.csv'."
   ]
  },
  {
   "cell_type": "code",
   "execution_count": 6,
   "id": "compatible-jesus",
   "metadata": {},
   "outputs": [
    {
     "data": {
      "text/html": [
       "<div>\n",
       "<style scoped>\n",
       "    .dataframe tbody tr th:only-of-type {\n",
       "        vertical-align: middle;\n",
       "    }\n",
       "\n",
       "    .dataframe tbody tr th {\n",
       "        vertical-align: top;\n",
       "    }\n",
       "\n",
       "    .dataframe thead th {\n",
       "        text-align: right;\n",
       "    }\n",
       "</style>\n",
       "<table border=\"1\" class=\"dataframe\">\n",
       "  <thead>\n",
       "    <tr style=\"text-align: right;\">\n",
       "      <th></th>\n",
       "      <th>playerID</th>\n",
       "      <th>stars</th>\n",
       "    </tr>\n",
       "  </thead>\n",
       "  <tbody>\n",
       "    <tr>\n",
       "      <th>0</th>\n",
       "      <td>aaronha01</td>\n",
       "      <td>24</td>\n",
       "    </tr>\n",
       "  </tbody>\n",
       "</table>\n",
       "</div>"
      ],
      "text/plain": [
       "    playerID  stars\n",
       "0  aaronha01     24"
      ]
     },
     "execution_count": 6,
     "metadata": {},
     "output_type": "execute_result"
    }
   ],
   "source": [
    "query4 = \"\"\"\n",
    "    SELECT playerID, COUNT(playerID) as stars \n",
    "    FROM allstarfull \n",
    "    GROUP BY playerID \n",
    "    ORDER BY stars DESC \n",
    "    LIMIT 1;\n",
    "\"\"\"\n",
    "\n",
    "df_school = pd.read_sql_query(query4, conn)\n",
    "df_school"
   ]
  },
  {
   "cell_type": "markdown",
   "id": "dependent-beaver",
   "metadata": {},
   "source": [
    "5. Which players have the longest career? Assume that the debut and finalGame columns comprise the start and end, respectively, of a player's career. Hint: Create a new table from 'Master.csv'. Also note that strings can be converted to dates using the DATE function and can then be subtracted from each other yielding their difference in days."
   ]
  },
  {
   "cell_type": "code",
   "execution_count": 7,
   "id": "bronze-active",
   "metadata": {},
   "outputs": [
    {
     "data": {
      "text/html": [
       "<div>\n",
       "<style scoped>\n",
       "    .dataframe tbody tr th:only-of-type {\n",
       "        vertical-align: middle;\n",
       "    }\n",
       "\n",
       "    .dataframe tbody tr th {\n",
       "        vertical-align: top;\n",
       "    }\n",
       "\n",
       "    .dataframe thead th {\n",
       "        text-align: right;\n",
       "    }\n",
       "</style>\n",
       "<table border=\"1\" class=\"dataframe\">\n",
       "  <thead>\n",
       "    <tr style=\"text-align: right;\">\n",
       "      <th></th>\n",
       "      <th>playerID</th>\n",
       "      <th>period</th>\n",
       "    </tr>\n",
       "  </thead>\n",
       "  <tbody>\n",
       "    <tr>\n",
       "      <th>0</th>\n",
       "      <td>orourji01</td>\n",
       "      <td>32</td>\n",
       "    </tr>\n",
       "  </tbody>\n",
       "</table>\n",
       "</div>"
      ],
      "text/plain": [
       "    playerID  period\n",
       "0  orourji01      32"
      ]
     },
     "execution_count": 7,
     "metadata": {},
     "output_type": "execute_result"
    }
   ],
   "source": [
    "query5 = \"\"\"\n",
    "    SELECT playerID, (MAX (yearID)- MIN(yearID)) as period \n",
    "    FROM fielding \n",
    "    GROUP BY playerID\n",
    "    ORDER BY period DESC\n",
    "    LIMIT 1;\n",
    "\"\"\"\n",
    "\n",
    "df_career = pd.read_sql_query(query5, conn)\n",
    "df_career"
   ]
  },
  {
   "cell_type": "markdown",
   "id": "confused-connection",
   "metadata": {},
   "source": [
    "6. What is the distribution of debut months? Hint: Look at the DATE and EXTRACT functions."
   ]
  },
  {
   "cell_type": "markdown",
   "id": "desirable-mongolia",
   "metadata": {},
   "source": [
    "Didn't find debut"
   ]
  },
  {
   "cell_type": "markdown",
   "id": "compound-drinking",
   "metadata": {},
   "source": [
    "7. What is the effect of table join order on mean salary for the players listed in the main (master) table? Hint: Perform two different queries, one that joins on playerID in the salary table and other that joins on the same column in the master table. You will have to use left joins for each since right joins are not currently supported with SQLalchemy."
   ]
  },
  {
   "cell_type": "markdown",
   "id": "reported-checkout",
   "metadata": {},
   "source": [
    "There's no PlayerID column in master table"
   ]
  },
  {
   "cell_type": "code",
   "execution_count": null,
   "id": "naval-logic",
   "metadata": {},
   "outputs": [],
   "source": []
  }
 ],
 "metadata": {
  "kernelspec": {
   "display_name": "Python [conda env:metis] *",
   "language": "python",
   "name": "conda-env-metis-py"
  },
  "language_info": {
   "codemirror_mode": {
    "name": "ipython",
    "version": 3
   },
   "file_extension": ".py",
   "mimetype": "text/x-python",
   "name": "python",
   "nbconvert_exporter": "python",
   "pygments_lexer": "ipython3",
   "version": "3.8.6"
  }
 },
 "nbformat": 4,
 "nbformat_minor": 5
}
